{
 "cells": [
  {
   "cell_type": "markdown",
   "metadata": {},
   "source": [
    "## OpenVINO optimizations for Knowledge graphs \n",
    "\n",
    "The goal of this notebook is to showcase performance optimizations for the ConvE knowledge graph embeddings model using the Intel® Distribution of OpenVINO™ Toolkit.\n",
    "The optimizations process contains the following steps:\n",
    "1. Train the ConvE model using the countries dataset\n",
    "2. Export the trained model to OpenVINO intermediate representation (IR)\n",
    "3. Compare the inference performance with the optimized OpenVINO model\n",
    "\n",
    "The ConvE model we use is an implementation of the paper Convolutional 2D Knowledge Graph Embeddings (https://arxiv.org/abs/1707.01476). The sample dataset was downloaded from: https://github.com/TimDettmers/ConvE/tree/master/countries/countries_S1"
   ]
  },
  {
   "cell_type": "code",
   "execution_count": 1,
   "metadata": {},
   "outputs": [],
   "source": [
    "# On Windows, add the directory that contains cl.exe to the PATH to enable PyTorch to find the\n",
    "# required C++ tools. This code assumes that Visual Studio 2019 is installed in the default\n",
    "# directory. If you have a different C++ compiler, please add the correct path to os.environ[\"PATH\"]\n",
    "# directly. Note that the C++ Redistributable is not enough to run this notebook.\n",
    "\n",
    "# Adding the path to os.environ[\"LIB\"] is not always required - it depends on the system's configuration\n",
    "\n",
    "import sys\n",
    "\n",
    "if sys.platform == \"win32\":\n",
    "    import distutils.command.build_ext\n",
    "    import os\n",
    "    from pathlib import Path\n",
    "\n",
    "    VS_INSTALL_DIR = r\"C:/Program Files (x86)/Microsoft Visual Studio\"\n",
    "    cl_paths = sorted(list(Path(VS_INSTALL_DIR).glob(\"**/Hostx86/x64/cl.exe\")))\n",
    "    if len(cl_paths) == 0:\n",
    "        raise ValueError(\n",
    "            \"Cannot find Visual Studio. This notebook requires a C++ compiler. If you installed \"\n",
    "            \"a C++ compiler, please add the directory that contains cl.exe to `os.environ['PATH']`.\"\n",
    "        )\n",
    "    else:\n",
    "        # If multiple versions of MSVC are installed, get the most recent version\n",
    "        cl_path = cl_paths[-1]\n",
    "        vs_dir = str(cl_path.parent)\n",
    "        os.environ[\"PATH\"] += f\"{os.pathsep}{vs_dir}\"\n",
    "        # Code for finding the library dirs from\n",
    "        # https://stackoverflow.com/questions/47423246/get-pythons-lib-path\n",
    "        d = distutils.core.Distribution()\n",
    "        b = distutils.command.build_ext.build_ext(d)\n",
    "        b.finalize_options()\n",
    "        os.environ[\"LIB\"] = os.pathsep.join(b.library_dirs)\n",
    "        print(f\"Added {vs_dir} to PATH\")"
   ]
  },
  {
   "cell_type": "code",
   "execution_count": 2,
   "metadata": {},
   "outputs": [],
   "source": [
    "import numpy as np \n",
    "import torch \n",
    "from torch.nn import functional as F, Parameter\n",
    "from torch.nn.init import xavier_normal_\n",
    "import math\n",
    "from tqdm import tqdm\n",
    "import json\n",
    "from pathlib import Path\n",
    "import matplotlib.pyplot as plt\n",
    "import time"
   ]
  },
  {
   "cell_type": "markdown",
   "metadata": {},
   "source": [
    "### Settings: Including path to the serialized model files, input data files as well as hyperparameter settings\n",
    "\n"
   ]
  },
  {
   "cell_type": "code",
   "execution_count": 3,
   "metadata": {},
   "outputs": [
    {
     "name": "stdout",
     "output_type": "stream",
     "text": [
      "Using cpu device\n"
     ]
    }
   ],
   "source": [
    "device = torch.device(\"cuda\" if torch.cuda.is_available() else \"cpu\")\n",
    "print(f\"Using {device} device\")\n",
    "\n",
    "modelpath = Path('models/conve.pt')\n",
    "\n",
    "entdatapath = Path('data/countries_S1/kg_training_entids.txt')            # Path to the file containing the entities and entity IDs\n",
    "reldatapath = Path('data/countries_S1/kg_training_relids.txt')            # Path to the file containing the relations and relation IDs\n",
    "traindatapath = Path('data/countries_S1/e1rel_to_e2_train.json')          # Path to the training data file\n",
    "testdatapath = Path('data/countries_S1/e1rel_to_e2_ranking_test.json')    # Path to the test data file\n",
    "\n",
    "batch_size = 1                                                      # Batch size\n",
    "input_dropout = 0.2                                                 # Input dropout for the model\n",
    "dropout = 0.3                                                       # Dropout for the model\n",
    "feature_map_dropout = 0.2                                           # Feature map dropout for the model\n",
    "use_bias = True \n",
    "emb_dim = 300                                                       # Entity and relation embedding dimensions\n",
    "lr = 0.001                                                          # Learning rate\n",
    "l2 = 5e-4                                                           # L2 regularization\n",
    "label_smoothing_epsilon = 0.1                                       # Label smoothing epsilon\n",
    "max_epochs = 10                                                     # Max epochs\n",
    "\n",
    "top_k = 2                                                          # Top K vals to consider from the predictions\n",
    "\n",
    "\n",
    "### Required for OpenVINO conversion\n",
    "output_dir = Path(\"models\")\n",
    "base_model_name = \"conve\"\n",
    "\n",
    "output_dir.mkdir(exist_ok=True)\n",
    "\n",
    "# Paths where PyTorch, ONNX and OpenVINO IR models will be stored\n",
    "fp32_onnx_path = Path(output_dir / (base_model_name + \"_fp32\")).with_suffix(\".onnx\")\n",
    "fp32_ir_path = fp32_onnx_path.with_suffix(\".xml\")"
   ]
  },
  {
   "cell_type": "markdown",
   "metadata": {},
   "source": [
    "### Defining the ConvE model class"
   ]
  },
  {
   "cell_type": "code",
   "execution_count": 4,
   "metadata": {},
   "outputs": [],
   "source": [
    "class ConvE(torch.nn.Module):\n",
    "    def __init__(self, num_entities, num_relations):\n",
    "        super(ConvE, self).__init__()\n",
    "        # Embedding tables for entity and relations with num_uniq_ent in y-dim, emb_dim in x-dim\n",
    "        self.emb_e = torch.nn.Embedding(num_entities, emb_dim, padding_idx=0)\n",
    "        self.ent_weights_matrix = torch.ones([num_entities, emb_dim], dtype=torch.float64)\n",
    "        self.emb_rel = torch.nn.Embedding(num_relations, emb_dim, padding_idx=0)\n",
    "        self.ne = num_entities\n",
    "        self.nr = num_relations\n",
    "        self.inp_drop = torch.nn.Dropout(input_dropout)\n",
    "        self.hidden_drop = torch.nn.Dropout(dropout)\n",
    "        self.feature_map_drop = torch.nn.Dropout2d(feature_map_dropout)\n",
    "        self.loss = torch.nn.BCELoss()\n",
    "\n",
    "        self.conv1 = torch.nn.Conv2d(1, 32, (3, 3), 1, 0, bias=use_bias)\n",
    "        self.bn0 = torch.nn.BatchNorm2d(1)\n",
    "        self.bn1 = torch.nn.BatchNorm2d(32)\n",
    "        self.bn2 = torch.nn.BatchNorm1d(emb_dim)\n",
    "        self.ln0 = torch.nn.LayerNorm(emb_dim)\n",
    "        self.register_parameter('b', Parameter(torch.zeros(num_entities)))\n",
    "        self.fc = torch.nn.Linear(16128,emb_dim)\n",
    "    \n",
    "    def init(self):\n",
    "        # Xavier initialization\n",
    "        xavier_normal_(self.emb_e.weight.data)\n",
    "        xavier_normal_(self.emb_rel.weight.data)\n",
    "        \n",
    "    \n",
    "    def forward(self, e1, rel, print_pred=False):\n",
    "        batch_size = 1\n",
    "        e1_embedded= self.emb_e(e1).view(-1, 1, 10, 30)\n",
    "        rel_embedded = self.emb_rel(rel).view(-1, 1, 10, 30)\n",
    "        stacked_inputs = torch.cat([e1_embedded, rel_embedded], 2)\n",
    "\n",
    "        stacked_inputs = self.bn0(stacked_inputs)\n",
    "        x= self.inp_drop(stacked_inputs)\n",
    "        x= self.conv1(x)\n",
    "        x= self.bn1(x)\n",
    "        x= F.relu(x)\n",
    "        x = self.feature_map_drop(x)\n",
    "        x = x.view(batch_size, -1)\n",
    "        x = self.fc(x)\n",
    "        x = self.hidden_drop(x)\n",
    "        # Try Layer norm instead of batch norm\n",
    "        #x = self.bn2(x)\n",
    "        x = self.ln0(x)\n",
    "        x = F.relu(x)\n",
    "        x = torch.mm(x, self.emb_e.weight.transpose(1,0)) # shape (batch, n_ent)\n",
    "        x = self.hidden_drop(x)\n",
    "        x += self.b.expand_as(x)\n",
    "        pred = torch.nn.functional.softmax(x, dim=1)\n",
    "        #print(pred.shape)\n",
    "        return pred"
   ]
  },
  {
   "cell_type": "markdown",
   "metadata": {},
   "source": [
    "### Defining the dataloader"
   ]
  },
  {
   "cell_type": "code",
   "execution_count": 5,
   "metadata": {},
   "outputs": [],
   "source": [
    "class DataLoader():\n",
    "    def __init__(self):\n",
    "        super(DataLoader, self).__init__()\n",
    "        \n",
    "        self.ent_path = entdatapath\n",
    "        self.rel_path = reldatapath\n",
    "        self.train_file = traindatapath\n",
    "        self.test_file = testdatapath\n",
    "        self.entity_ids = self.load_data(self.ent_path) \n",
    "        self.ids2entities =  self.id2ent(self.ent_path) \n",
    "        self.rel_ids =  self.load_data(self.rel_path)\n",
    "        self.ids2rel =  self.id2rel(self.rel_path) \n",
    "        self.train_triples_list = self.convert_triples(self.train_file)\n",
    "        self.test_triples_list = self.convert_triples(self.test_file)\n",
    "\n",
    "\n",
    "    def load_data(self, data_path):\n",
    "        item_dict = {}\n",
    "        with open(data_path) as df:\n",
    "            lines = df.readlines()\n",
    "            for line in lines:\n",
    "                name, id = line.strip().split('\\t')\n",
    "                item_dict[name] = int(id)\n",
    "        return item_dict\n",
    "    \n",
    "    def id2ent(self, data_path):\n",
    "        item_dict = {}\n",
    "        with open(data_path) as df:\n",
    "            lines = df.readlines()\n",
    "            for line in lines:\n",
    "                name, id = line.strip().split('\\t')\n",
    "                item_dict[int(id)] = name\n",
    "        return item_dict\n",
    "    \n",
    "    def id2rel(self, data_path):\n",
    "        item_dict = {}\n",
    "        with open(data_path) as df:\n",
    "            lines = df.readlines()\n",
    "            for line in lines:\n",
    "                name, id = line.strip().split('\\t')\n",
    "                item_dict[int(id)] = name\n",
    "        return item_dict\n",
    "    \n",
    "    def convert_triples(self, data_path):\n",
    "        triples_list = []\n",
    "        with open(data_path) as df:\n",
    "            lines = df.readlines()\n",
    "            for line in lines:\n",
    "                item_dict = json.loads(line.strip())\n",
    "                h = item_dict['e1']\n",
    "                r = item_dict['rel']\n",
    "                t = item_dict['e2_multi1'].split('\\t')\n",
    "                hrt_list = []\n",
    "                hrt_list.append(self.entity_ids[h])\n",
    "                hrt_list.append(self.rel_ids[r])\n",
    "                t_ents = []\n",
    "                for t_idx in t:\n",
    "                    t_ents.append(self.entity_ids[t_idx])\n",
    "                hrt_list.append(t_ents)\n",
    "                triples_list.append(hrt_list)\n",
    "        return triples_list"
   ]
  },
  {
   "cell_type": "markdown",
   "metadata": {},
   "source": [
    "### Train the ConvE models"
   ]
  },
  {
   "cell_type": "code",
   "execution_count": 6,
   "metadata": {},
   "outputs": [
    {
     "name": "stderr",
     "output_type": "stream",
     "text": [
      "  0%|          | 0/10 [00:00<?, ?it/s]<ipython-input-6-81e9cef04931>:26: UserWarning: To copy construct from a tensor, it is recommended to use sourceTensor.clone().detach() or sourceTensor.clone().detach().requires_grad_(True), rather than torch.tensor(sourceTensor).\n",
      "  loss = model.loss(logits, torch.tensor(e2_multi))\n",
      "100%|██████████| 10/10 [02:13<00:00, 13.30s/it]"
     ]
    },
    {
     "name": "stdout",
     "output_type": "stream",
     "text": [
      "Finished training the ConvE model\n"
     ]
    },
    {
     "name": "stderr",
     "output_type": "stream",
     "text": [
      "\n"
     ]
    },
    {
     "data": {
      "text/plain": [
       "[<matplotlib.lines.Line2D at 0x7f250874e220>]"
      ]
     },
     "execution_count": 6,
     "metadata": {},
     "output_type": "execute_result"
    },
    {
     "data": {
      "image/png": "[encoded data removed]",
      "text/plain": [
       "<Figure size 432x288 with 1 Axes>"
      ]
     },
     "metadata": {
      "needs_background": "light"
     },
     "output_type": "display_data"
    }
   ],
   "source": [
    "data = DataLoader()\n",
    "num_entities =  len(data.entity_ids)\n",
    "num_relations =  len(data.rel_ids)\n",
    "triples_list = data.train_triples_list\n",
    "num_train_samples = len(triples_list)\n",
    "num_train_steps = math.ceil(num_train_samples/int(batch_size))\n",
    "\n",
    "model = ConvE(num_entities, num_relations)\n",
    "model.init()\n",
    "optimizer = torch.optim.Adam(model.parameters())\n",
    "\n",
    "# Fitting the Model\n",
    "model.train()\n",
    "loss_values = []\n",
    "for ep in tqdm(range(max_epochs)):\n",
    "    epoch_loss = 0\n",
    "    # TODO: Check support for higher batch size > 1 training\n",
    "    for counter in range(num_train_steps):\n",
    "        optimizer.zero_grad()\n",
    "        e2_multi = torch.zeros(batch_size, num_entities)\n",
    "        train_sample = triples_list[counter:counter+int(batch_size)]\n",
    "        h,r,t = train_sample[0]\n",
    "        logits = model.forward(torch.tensor(h), torch.tensor(r), print_pred=False)\n",
    "        for t_id in t:\n",
    "            e2_multi[0][t_id] = 1.0\n",
    "        loss = model.loss(logits, torch.tensor(e2_multi))\n",
    "        loss.backward()\n",
    "        optimizer.step()\n",
    "        batch_loss = torch.sum(loss)\n",
    "        #print('Batch {}: Batch loss:{}'.format(counter, batch_loss))\n",
    "        epoch_loss += batch_loss\n",
    "        loss_values.append(epoch_loss)\n",
    "        counter = counter + int(batch_size)\n",
    "    #print('Epoch loss:{}'.format(epoch_loss))\n",
    "print(f'Finished training the ConvE model')\n",
    "plt.plot(np.array(loss_values))\n",
    "\n",
    "\n",
    "# # Save model    \n",
    "# torch.save(model.state_dict(), modelpath)"
   ]
  },
  {
   "cell_type": "markdown",
   "metadata": {},
   "source": [
    "### Evaluate the trained ConvE model"
   ]
  },
  {
   "cell_type": "code",
   "execution_count": 7,
   "metadata": {},
   "outputs": [
    {
     "name": "stdout",
     "output_type": "stream",
     "text": [
      "--------------------------------------------------------------------------\n",
      "Entity:zambia, Relation:locatedin, Model Predictions:eastern_africa, Ground truth Target:africa\n",
      "Entity:zambia, Relation:locatedin, Model Predictions:africa, Ground truth Target:africa\n",
      "--------------------------------------------------------------------------\n",
      "Entity:morocco, Relation:locatedin, Model Predictions:northern_africa, Ground truth Target:africa\n",
      "Entity:morocco, Relation:locatedin, Model Predictions:europe, Ground truth Target:africa\n",
      "--------------------------------------------------------------------------\n",
      "Entity:san_marino, Relation:locatedin, Model Predictions:southern_europe, Ground truth Target:europe\n",
      "Entity:san_marino, Relation:locatedin, Model Predictions:europe, Ground truth Target:europe\n",
      "--------------------------------------------------------------------------\n",
      "Entity:canada, Relation:locatedin, Model Predictions:northern_america, Ground truth Target:americas\n",
      "Entity:canada, Relation:locatedin, Model Predictions:americas, Ground truth Target:americas\n",
      "--------------------------------------------------------------------------\n",
      "Entity:uganda, Relation:locatedin, Model Predictions:eastern_africa, Ground truth Target:africa\n",
      "Entity:uganda, Relation:locatedin, Model Predictions:africa, Ground truth Target:africa\n",
      "--------------------------------------------------------------------------\n",
      "Entity:belgium, Relation:locatedin, Model Predictions:western_europe, Ground truth Target:western_europe\n",
      "Entity:belgium, Relation:locatedin, Model Predictions:europe, Ground truth Target:western_europe\n",
      "--------------------------------------------------------------------------\n",
      "Entity:syria, Relation:locatedin, Model Predictions:western_asia, Ground truth Target:asia\n",
      "Entity:syria, Relation:locatedin, Model Predictions:asia, Ground truth Target:asia\n",
      "--------------------------------------------------------------------------\n",
      "Entity:mali, Relation:locatedin, Model Predictions:western_africa, Ground truth Target:africa\n",
      "Entity:mali, Relation:locatedin, Model Predictions:africa, Ground truth Target:africa\n",
      "--------------------------------------------------------------------------\n",
      "Entity:russia, Relation:locatedin, Model Predictions:europe, Ground truth Target:europe\n",
      "Entity:russia, Relation:locatedin, Model Predictions:eastern_europe, Ground truth Target:europe\n",
      "--------------------------------------------------------------------------\n",
      "Entity:israel, Relation:locatedin, Model Predictions:western_asia, Ground truth Target:asia\n",
      "Entity:israel, Relation:locatedin, Model Predictions:asia, Ground truth Target:asia\n",
      "--------------------------------------------------------------------------\n",
      "Entity:republic_of_the_congo, Relation:locatedin, Model Predictions:middle_africa, Ground truth Target:middle_africa\n",
      "Entity:republic_of_the_congo, Relation:locatedin, Model Predictions:africa, Ground truth Target:middle_africa\n",
      "--------------------------------------------------------------------------\n",
      "Entity:guatemala, Relation:locatedin, Model Predictions:central_america, Ground truth Target:americas\n",
      "Entity:guatemala, Relation:locatedin, Model Predictions:americas, Ground truth Target:americas\n",
      "--------------------------------------------------------------------------\n",
      "Entity:sri_lanka, Relation:locatedin, Model Predictions:southern_asia, Ground truth Target:southern_asia\n",
      "Entity:sri_lanka, Relation:locatedin, Model Predictions:asia, Ground truth Target:southern_asia\n",
      "--------------------------------------------------------------------------\n",
      "Entity:monaco, Relation:locatedin, Model Predictions:western_europe, Ground truth Target:western_europe\n",
      "Entity:monaco, Relation:locatedin, Model Predictions:europe, Ground truth Target:western_europe\n",
      "--------------------------------------------------------------------------\n",
      "Entity:croatia, Relation:locatedin, Model Predictions:southern_europe, Ground truth Target:europe\n",
      "Entity:croatia, Relation:locatedin, Model Predictions:europe, Ground truth Target:europe\n",
      "--------------------------------------------------------------------------\n",
      "Entity:paraguay, Relation:locatedin, Model Predictions:south_america, Ground truth Target:south_america\n",
      "Entity:paraguay, Relation:locatedin, Model Predictions:americas, Ground truth Target:south_america\n",
      "--------------------------------------------------------------------------\n",
      "Entity:poland, Relation:locatedin, Model Predictions:europe, Ground truth Target:europe\n",
      "Entity:poland, Relation:locatedin, Model Predictions:eastern_europe, Ground truth Target:europe\n",
      "--------------------------------------------------------------------------\n",
      "Entity:hong_kong, Relation:locatedin, Model Predictions:eastern_asia, Ground truth Target:eastern_asia\n",
      "Entity:hong_kong, Relation:locatedin, Model Predictions:china, Ground truth Target:eastern_asia\n",
      "--------------------------------------------------------------------------\n",
      "Entity:libya, Relation:locatedin, Model Predictions:northern_africa, Ground truth Target:africa\n",
      "Entity:libya, Relation:locatedin, Model Predictions:africa, Ground truth Target:africa\n",
      "--------------------------------------------------------------------------\n",
      "Entity:jordan, Relation:locatedin, Model Predictions:western_asia, Ground truth Target:asia\n",
      "Entity:jordan, Relation:locatedin, Model Predictions:asia, Ground truth Target:asia\n",
      "--------------------------------------------------------------------------\n",
      "Entity:yemen, Relation:locatedin, Model Predictions:western_asia, Ground truth Target:asia\n",
      "Entity:yemen, Relation:locatedin, Model Predictions:asia, Ground truth Target:asia\n",
      "--------------------------------------------------------------------------\n",
      "Entity:saudi_arabia, Relation:locatedin, Model Predictions:western_asia, Ground truth Target:asia\n",
      "Entity:saudi_arabia, Relation:locatedin, Model Predictions:asia, Ground truth Target:asia\n",
      "--------------------------------------------------------------------------\n",
      "Entity:mauritania, Relation:locatedin, Model Predictions:western_africa, Ground truth Target:africa\n",
      "Entity:mauritania, Relation:locatedin, Model Predictions:northern_africa, Ground truth Target:africa\n",
      "--------------------------------------------------------------------------\n",
      "Entity:suriname, Relation:locatedin, Model Predictions:south_america, Ground truth Target:south_america\n",
      "Entity:suriname, Relation:locatedin, Model Predictions:americas, Ground truth Target:south_america\n",
      "--------------------------------------------------------------------------\n",
      "Average time taken for inference: 2.2945404052734375 ms\n"
     ]
    }
   ],
   "source": [
    "data = DataLoader()\n",
    "num_entities =  len(data.entity_ids)\n",
    "num_relations =  len(data.rel_ids)\n",
    "\n",
    "names_dict = data.ids2entities\n",
    "rel_dict = data.ids2rel\n",
    "\n",
    "model = ConvE(num_entities, num_relations)\n",
    "model.load_state_dict(torch.load(modelpath))\n",
    "model.eval()\n",
    "\n",
    "inf_times = []\n",
    "\n",
    "triples_list = data.test_triples_list\n",
    "num_test_samples = len(triples_list)\n",
    "for i in range(num_test_samples):\n",
    "    test_sample = triples_list[i]\n",
    "    #print('Testing sample:{}'.format(test_sample))\n",
    "    h,r,t = test_sample\n",
    "    start_time = time.time()\n",
    "    logits = model.forward(torch.tensor(h), torch.tensor(r), print_pred=False)\n",
    "    end_time = time.time()\n",
    "    inf_times.append(end_time-start_time)\n",
    "    score, pred = torch.topk(logits, top_k, 1)\n",
    "\n",
    "    print(\"--------------------------------------------------------------------------\")\n",
    "    for j, id in enumerate(pred[0].cpu().detach().numpy()): \n",
    "        pred_entity = names_dict[id]\n",
    "        print('Entity:{}, Relation:{}, Model Predictions:{}, Ground truth Target:{}'.format(names_dict[h], rel_dict[r], names_dict[id], names_dict[t[0]]))\n",
    "\n",
    "print(\"--------------------------------------------------------------------------\")\n",
    "avg_pt_time = np.mean(inf_times)*1000\n",
    "print(f'Average time taken for inference: {avg_pt_time} ms')\n"
   ]
  },
  {
   "cell_type": "markdown",
   "metadata": {},
   "source": [
    "### Convert the trained PyTorch model to ONNX format"
   ]
  },
  {
   "cell_type": "code",
   "execution_count": 8,
   "metadata": {},
   "outputs": [
    {
     "name": "stdout",
     "output_type": "stream",
     "text": [
      "Converting the trained conve model to ONNX format\n"
     ]
    },
    {
     "name": "stderr",
     "output_type": "stream",
     "text": [
      "/home/dkarkada/miniconda3/envs/openvino_env/lib/python3.8/site-packages/torch/onnx/utils.py:299: UserWarning: It is recommended that constant folding be turned off ('do_constant_folding=False') when exporting the model in training-amenable mode, i.e. with 'training=TrainingMode.TRAIN' or 'training=TrainingMode.PRESERVE' (when model is in training mode). Otherwise, some learnable model parameters may not translate correctly in the exported ONNX model because constant folding mutates model parameters. Please consider turning off constant folding or setting the training=TrainingMode.EVAL.\n",
      "  warnings.warn(\"It is recommended that constant folding be turned off ('do_constant_folding=False') \"\n"
     ]
    }
   ],
   "source": [
    "print(f'Converting the trained conve model to ONNX format')\n",
    "torch.onnx.export(model, (torch.tensor(1), torch.tensor(1)), fp32_onnx_path, verbose=False, opset_version=11, training=False)"
   ]
  },
  {
   "cell_type": "markdown",
   "metadata": {},
   "source": [
    "### Convert the ONNX model to OpenVINO format"
   ]
  },
  {
   "cell_type": "code",
   "execution_count": 9,
   "metadata": {},
   "outputs": [],
   "source": [
    "if not fp32_ir_path.exists():\n",
    "    !mo --input_model \"$fp32_onnx_path\" --input='input.1[1],input.2[1]' --data_type FP32 --output_dir \"$output_dir\"\n",
    "    assert fp32_ir_path.exists(), \"The IR of FP32 model wasn't created\""
   ]
  },
  {
   "cell_type": "markdown",
   "metadata": {},
   "source": [
    "### Benchmark the converted OpenVINO model using benchmark app"
   ]
  },
  {
   "cell_type": "code",
   "execution_count": 10,
   "metadata": {},
   "outputs": [
    {
     "name": "stdout",
     "output_type": "stream",
     "text": [
      "Benchmark FP32 model (IR)\n",
      "Count:          439848 iterations\n",
      "Duration:       15000.37 ms\n",
      "Latency:\n",
      "Throughput: 29322.48 FPS\n",
      "Avg OV latency: 0.36 ms\n",
      "Speedup with OV optimizations: 6.37 X\n"
     ]
    }
   ],
   "source": [
    "def parse_benchmark_output(benchmark_output: str):\n",
    "    \"\"\"Prints the output from benchmark_app in human-readable format\"\"\"\n",
    "    parsed_output = [line for line in benchmark_output if not (line.startswith(r\"[\") or line.startswith(\"  \") or line == \"\")]\n",
    "    print(*parsed_output, sep='\\n')\n",
    "    avg_latency_str = [line for line in benchmark_output if (\"AVG\" in line)]\n",
    "    avg_ov_latency = float(avg_latency_str[0].strip().split('AVG')[1].split('ms')[0].split(':')[1].strip())\n",
    "    print(f'Avg OV latency: {avg_ov_latency} ms')\n",
    "    return avg_ov_latency\n",
    "\n",
    "\n",
    "print('Benchmark FP32 model (IR)')\n",
    "benchmark_output = ! benchmark_app -m \"$fp32_ir_path\" -d CPU -api async -t 15 -shape 'input.1[1],input.2[1]'\n",
    "avg_ov_latency = parse_benchmark_output(benchmark_output)\n",
    "print(f'Speedup with OV optimizations: {round(float(avg_pt_time)/float(avg_ov_latency),2)} X')\n",
    "\n"
   ]
  }
 ],
 "metadata": {
  "interpreter": {
   "hash": "2e339aa45fb9f0301d2f56c13d53088845d2fe9489fd39416395d98a5dd08590"
  },
  "kernelspec": {
   "display_name": "Python 3.8.11 ('hftests': conda)",
   "language": "python",
   "name": "python3"
  },
  "language_info": {
   "codemirror_mode": {
    "name": "ipython",
    "version": 3
   },
   "file_extension": ".py",
   "mimetype": "text/x-python",
   "name": "python",
   "nbconvert_exporter": "python",
   "pygments_lexer": "ipython3",
   "version": "3.8.13"
  },
  "orig_nbformat": 4
 },
 "nbformat": 4,
 "nbformat_minor": 2
}
